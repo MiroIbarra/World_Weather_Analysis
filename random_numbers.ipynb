{
 "cells": [
  {
   "cell_type": "code",
   "execution_count": 10,
   "id": "c4cabdc8",
   "metadata": {},
   "outputs": [],
   "source": [
    "import random"
   ]
  },
  {
   "cell_type": "code",
   "execution_count": 11,
   "id": "59c68d5b",
   "metadata": {},
   "outputs": [
    {
     "data": {
      "text/plain": [
       "0.38501543921323234"
      ]
     },
     "execution_count": 11,
     "metadata": {},
     "output_type": "execute_result"
    }
   ],
   "source": [
    "random.random()"
   ]
  },
  {
   "cell_type": "code",
   "execution_count": 12,
   "id": "d759456e",
   "metadata": {},
   "outputs": [
    {
     "data": {
      "text/plain": [
       "7"
      ]
     },
     "execution_count": 12,
     "metadata": {},
     "output_type": "execute_result"
    }
   ],
   "source": [
    "random.randint(-10,10)"
   ]
  },
  {
   "cell_type": "code",
   "execution_count": 13,
   "id": "1cc8bc5b",
   "metadata": {},
   "outputs": [
    {
     "data": {
      "text/plain": [
       "-5"
      ]
     },
     "execution_count": 13,
     "metadata": {},
     "output_type": "execute_result"
    }
   ],
   "source": [
    "random.randrange(-9,9,2)"
   ]
  },
  {
   "cell_type": "code",
   "execution_count": 14,
   "id": "1411b9df",
   "metadata": {},
   "outputs": [
    {
     "data": {
      "text/plain": [
       "-8.458381652175966"
      ]
     },
     "execution_count": 14,
     "metadata": {},
     "output_type": "execute_result"
    }
   ],
   "source": [
    "random.uniform(-10,10)"
   ]
  },
  {
   "cell_type": "code",
   "execution_count": 15,
   "id": "8df964c2",
   "metadata": {},
   "outputs": [
    {
     "data": {
      "text/plain": [
       "-87"
      ]
     },
     "execution_count": 15,
     "metadata": {},
     "output_type": "execute_result"
    }
   ],
   "source": [
    "random.randint(-90, 90)"
   ]
  },
  {
   "cell_type": "code",
   "execution_count": 16,
   "id": "4fe7b676",
   "metadata": {},
   "outputs": [
    {
     "data": {
      "text/plain": [
       "-13.172961964639939"
      ]
     },
     "execution_count": 16,
     "metadata": {},
     "output_type": "execute_result"
    }
   ],
   "source": [
    "random_number = random.randint(-90,89) + random.random()\n",
    "random_number"
   ]
  },
  {
   "cell_type": "code",
   "execution_count": 17,
   "id": "8d1fbf63",
   "metadata": {},
   "outputs": [
    {
     "name": "stdout",
     "output_type": "stream",
     "text": [
      "[-0.04686814616030055]\n",
      "[-0.04686814616030055, -13.91608162593381]\n",
      "[-0.04686814616030055, -13.91608162593381, 75.68745148214768]\n",
      "[-0.04686814616030055, -13.91608162593381, 75.68745148214768, -48.24900342402893]\n",
      "[-0.04686814616030055, -13.91608162593381, 75.68745148214768, -48.24900342402893, 74.26595806351996]\n",
      "[-0.04686814616030055, -13.91608162593381, 75.68745148214768, -48.24900342402893, 74.26595806351996, 73.31546203352266]\n",
      "[-0.04686814616030055, -13.91608162593381, 75.68745148214768, -48.24900342402893, 74.26595806351996, 73.31546203352266, -11.688683899217267]\n",
      "[-0.04686814616030055, -13.91608162593381, 75.68745148214768, -48.24900342402893, 74.26595806351996, 73.31546203352266, -11.688683899217267, -16.709142851691375]\n",
      "[-0.04686814616030055, -13.91608162593381, 75.68745148214768, -48.24900342402893, 74.26595806351996, 73.31546203352266, -11.688683899217267, -16.709142851691375, -12.111847988150133]\n",
      "[-0.04686814616030055, -13.91608162593381, 75.68745148214768, -48.24900342402893, 74.26595806351996, 73.31546203352266, -11.688683899217267, -16.709142851691375, -12.111847988150133, -14.39548577965147]\n"
     ]
    }
   ],
   "source": [
    "x = 1\n",
    "latitudes = []\n",
    "while x < 11:\n",
    "    random_lat = random.randint(-90, 89) + random.random()\n",
    "    latitudes.append(random_lat)\n",
    "    x += 1\n",
    "    print(latitudes)"
   ]
  },
  {
   "cell_type": "code",
   "execution_count": 18,
   "id": "3ac8febd",
   "metadata": {},
   "outputs": [
    {
     "data": {
      "text/plain": [
       "-89"
      ]
     },
     "execution_count": 18,
     "metadata": {},
     "output_type": "execute_result"
    }
   ],
   "source": [
    "random.randrange(-90, 90, step=1)"
   ]
  },
  {
   "cell_type": "code",
   "execution_count": 19,
   "id": "bdf6e72a",
   "metadata": {},
   "outputs": [
    {
     "data": {
      "text/plain": [
       "-84"
      ]
     },
     "execution_count": 19,
     "metadata": {},
     "output_type": "execute_result"
    }
   ],
   "source": [
    "random.randrange(-90, 90, step=3)"
   ]
  },
  {
   "cell_type": "code",
   "execution_count": 20,
   "id": "d41e4513",
   "metadata": {},
   "outputs": [],
   "source": [
    "# Import the NumPy module.\n",
    "import numpy as np"
   ]
  },
  {
   "cell_type": "code",
   "execution_count": 21,
   "id": "bbd3aca4",
   "metadata": {},
   "outputs": [
    {
     "data": {
      "text/plain": [
       "-22.72599924483781"
      ]
     },
     "execution_count": 21,
     "metadata": {},
     "output_type": "execute_result"
    }
   ],
   "source": [
    "np.random.uniform(-90.000, 90.000)"
   ]
  },
  {
   "cell_type": "code",
   "execution_count": 22,
   "id": "9b9fce3e",
   "metadata": {},
   "outputs": [
    {
     "data": {
      "text/plain": [
       "9.140672555412934"
      ]
     },
     "execution_count": 22,
     "metadata": {},
     "output_type": "execute_result"
    }
   ],
   "source": [
    "np.random.uniform(low=-90, high=90)"
   ]
  },
  {
   "cell_type": "code",
   "execution_count": 23,
   "id": "43e2a44f",
   "metadata": {},
   "outputs": [
    {
     "data": {
      "text/plain": [
       "array([-31.21925794,  50.66567477, -58.35753978, -55.17488939,\n",
       "       -42.44105172,  59.9988269 ,  62.52760847, -37.96542468,\n",
       "       -71.86848898, -70.51525043, -58.81407978, -77.30514392,\n",
       "        77.93357369, -68.78078714, -67.4156333 ,  51.27315465,\n",
       "        60.00524007,  11.69724761,  67.47249685,  89.74972454,\n",
       "       -87.21162842,  43.8567728 ,  58.19069028,  65.75808332,\n",
       "       -54.9933732 , -46.60465809,  -8.81057587,  24.00073519,\n",
       "        30.89902275,   9.71568008, -52.51495975, -22.80601566,\n",
       "        21.31516228,  51.44215085, -26.38671574,  46.77978999,\n",
       "         1.26304796, -11.37376455,  13.49162473, -69.54781665,\n",
       "        87.31295999, -86.77339877,  61.59342083,  76.76474082,\n",
       "        38.69362982, -38.87813775,  38.74525087, -55.69265574,\n",
       "        -6.27084404,  70.29842767])"
      ]
     },
     "execution_count": 23,
     "metadata": {},
     "output_type": "execute_result"
    }
   ],
   "source": [
    "np.random.uniform(-90.000, 90.000, size=50)"
   ]
  },
  {
   "cell_type": "code",
   "execution_count": 24,
   "id": "589a0d71",
   "metadata": {},
   "outputs": [],
   "source": [
    "# Import timeit.\n",
    "import timeit"
   ]
  },
  {
   "cell_type": "code",
   "execution_count": 25,
   "id": "fae4c012",
   "metadata": {},
   "outputs": [
    {
     "name": "stdout",
     "output_type": "stream",
     "text": [
      "17.8 µs ± 1.41 µs per loop (mean ± std. dev. of 7 runs, 10000 loops each)\n"
     ]
    }
   ],
   "source": [
    "%timeit np.random.uniform(-90.000, 90.000, size=1500)"
   ]
  },
  {
   "cell_type": "code",
   "execution_count": 26,
   "id": "5a789e91",
   "metadata": {},
   "outputs": [
    {
     "name": "stdout",
     "output_type": "stream",
     "text": [
      "1.63 ms ± 54.4 µs per loop (mean ± std. dev. of 7 runs, 100 loops each)\n"
     ]
    }
   ],
   "source": [
    "def latitudes(size):\n",
    "    latitudes = []\n",
    "    x = 0\n",
    "    while x < (size):\n",
    "        random_lat = random.randint(-90, 90) + random.random()\n",
    "        latitudes.append(random_lat)\n",
    "        x += 1\n",
    "    return latitudes\n",
    "# Call the function with 1500.\n",
    "%timeit latitudes(1500)"
   ]
  },
  {
   "cell_type": "code",
   "execution_count": null,
   "id": "ba127283",
   "metadata": {},
   "outputs": [],
   "source": []
  }
 ],
 "metadata": {
  "kernelspec": {
   "display_name": "PythonData",
   "language": "python",
   "name": "pythondata"
  },
  "language_info": {
   "codemirror_mode": {
    "name": "ipython",
    "version": 3
   },
   "file_extension": ".py",
   "mimetype": "text/x-python",
   "name": "python",
   "nbconvert_exporter": "python",
   "pygments_lexer": "ipython3",
   "version": "3.8.8"
  }
 },
 "nbformat": 4,
 "nbformat_minor": 5
}
